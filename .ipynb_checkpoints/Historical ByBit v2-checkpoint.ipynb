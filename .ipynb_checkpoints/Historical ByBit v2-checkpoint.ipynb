{
 "cells": [
  {
   "cell_type": "code",
   "execution_count": 1,
   "metadata": {},
   "outputs": [],
   "source": [
    "# https://quantnomad.com/2020/12/03/getting-historical-bars-from-bybit-api-with-python/\n",
    "\n",
    "# https://bybit-exchange.github.io/docs/linear/#t-querykline\n",
    "\n",
    "import requests \n",
    "import json \n",
    "import pandas as pd\n",
    "import datetime as dt\n",
    "from datetime import date\n",
    "import matplotlib.pyplot as plt\n",
    "import time\n",
    "import pytz; \n",
    "\n",
    "import os\n",
    "from dotenv import load_dotenv\n",
    "\n",
    "import plotly.graph_objects as go\n",
    "import openpyxl\n",
    "from openpyxl import load_workbook"
   ]
  },
  {
   "cell_type": "markdown",
   "metadata": {},
   "source": [
    "### Set environment variables from the .env in the local environment"
   ]
  },
  {
   "cell_type": "code",
   "execution_count": 2,
   "metadata": {},
   "outputs": [],
   "source": [
    "load_dotenv()\n",
    "my_api_key = os.getenv(\"API_KEY\")\n",
    "my_api_secret = os.getenv(\"API_SECRET\")\n",
    "\n",
    "# print(my_api_key)\n",
    "# print(my_api_secret)"
   ]
  },
  {
   "cell_type": "code",
   "execution_count": 3,
   "metadata": {},
   "outputs": [],
   "source": [
    "### Change Timezone if Needed\n",
    "\n",
    "## my_list simply unpacks the list elements and pass each one of them as parameters to the print function  \n",
    "# print(*pytz.all_timezones, sep='\\n')\n",
    "\n",
    "# In windows command prompt try:\n",
    "#     This gives current timezone: tzutil /g\n",
    "#     This gives a list of timezones: tzutil /l\n",
    "#     This will set the timezone: tzutil /s \"Central America Standard Time\"\n",
    "\n",
    "\n",
    "#os.system('tzutil /s \"Eastern Standard Time\"')  \n",
    "#os.system('tzutil /s \"Singapore Standard Time\"')\n",
    "#time.strftime('%Y-%m-%d %H:%m') "
   ]
  },
  {
   "cell_type": "code",
   "execution_count": 4,
   "metadata": {},
   "outputs": [],
   "source": [
    "# https://github.com/verata-veritatis/pybit\n",
    "\n",
    "# Import pybit and define the HTTP object.\n",
    "from pybit import HTTP\n",
    "\n",
    "\"\"\"\n",
    "You can create an authenticated or unauthenticated HTTP session. \n",
    "You can skip authentication by not passing any value for api_key\n",
    "and api_secret.\n",
    "\"\"\"\n",
    "\n",
    "# Unauthenticated\n",
    "#session_unauth = HTTP(endpoint='https://api.bybit.com')\n",
    "\n",
    "# Authenticated\n",
    "session_auth = HTTP(\n",
    "    endpoint = 'https://api.bybit.com',\n",
    "    api_key = my_api_key,\n",
    "    api_secret = my_api_secret\n",
    ")\n",
    "\n",
    "# Lets get market information about EOSUSD. Note that 'symbol' is\n",
    "# a required parameter as per the Bybit API documentation.\n",
    "#session_unauth.latest_information_for_symbol(symbol='BTCUSD')\n",
    "\n",
    "# We can fetch our wallet balance using an auth'd session.\n",
    "#session_auth.get_wallet_balance(coin='BTC')\n",
    "\n",
    "\n",
    "## Spot API.\n",
    "\n",
    "# Unauthenticated, prefer spot endpoint\n",
    "#session_spot_unauth = HTTP(endpoint='https://api.bybit.com', spot=True)\n",
    "\n",
    "# Prefer spot endpoint for this request, without specifying at obj creation\n",
    "#session_auth.get_wallet_balance(coin='BTC', spot=True)"
   ]
  },
  {
   "cell_type": "code",
   "execution_count": 5,
   "metadata": {},
   "outputs": [],
   "source": [
    "# query_kline parameters\n",
    "# ----------------------------------------------------------------------\n",
    "# Name      Required    Type     Description\n",
    "# ----      --------    ----     -----------\n",
    "# symbol\ttrue\t    string\t Symbol\n",
    "# interval\ttrue\t    string\t Data refresh interval. Enum : 1 3 5 15 30 60 120 240 360 720 \"D\" \"M\" \"W\"\n",
    "# from\t    true\t    integer\t From timestamp in seconds\n",
    "# limit     false       integer  Limit for data size per page, max size is 200. Default as showing 200 pieces of data per page\n",
    "# ----------------------------------------------------------------------\n",
    "\n",
    "def get_bybit_bars(symbol, interval, fromTime):\n",
    " \n",
    "    fromTime = str(int(fromTime.timestamp()))\n",
    "    \n",
    "    result = session_auth.query_kline(symbol=symbol, interval=interval, **{'from':fromTime})['result']\n",
    "    df = pd.DataFrame(result)\n",
    " \n",
    "    if (len(df.index) == 0):\n",
    "        return None\n",
    "    \n",
    "    df.index = [dt.datetime.utcfromtimestamp(x) for x in df.open_time]\n",
    " \n",
    "    return df"
   ]
  },
  {
   "cell_type": "code",
   "execution_count": 6,
   "metadata": {},
   "outputs": [],
   "source": [
    "# The issue with ByBit API is that you can get a maximum of 200 bars from it. \n",
    "# So if you need to get data for a large portion of the time you have to call it multiple times.\n",
    "\n",
    "def get_bybit_kline_data(symbol, interval, fromTime, toTime):\n",
    "    \n",
    "    df_list = []\n",
    "    last_datetime = fromTime\n",
    "    while last_datetime < toTime:\n",
    "        print(f'Fetching next 200 lines fromTime: [{last_datetime}]')\n",
    "        new_df = get_bybit_bars(symbol, interval, last_datetime)\n",
    "        if new_df is None:\n",
    "            break\n",
    "        df_list.append(new_df)\n",
    "        last_datetime = max(new_df.index) + dt.timedelta(0, 1) # Add 1s to last data received\n",
    "        \n",
    "        #time.sleep(2) # Sleep for x seconds, to avoid being locked out\n",
    " \n",
    "    df = pd.concat(df_list)\n",
    "    \n",
    "    # Drop rows that have a timestamp greater than toTime\n",
    "    df = df[df.open_time <= int(toTime.timestamp())]\n",
    "\n",
    "    return df"
   ]
  },
  {
   "cell_type": "code",
   "execution_count": 7,
   "metadata": {},
   "outputs": [
    {
     "name": "stdout",
     "output_type": "stream",
     "text": [
      "Fetching next 200 lines fromTime: [2021-10-01 00:00:00]\n"
     ]
    },
    {
     "data": {
      "text/html": [
       "<div>\n",
       "<style scoped>\n",
       "    .dataframe tbody tr th:only-of-type {\n",
       "        vertical-align: middle;\n",
       "    }\n",
       "\n",
       "    .dataframe tbody tr th {\n",
       "        vertical-align: top;\n",
       "    }\n",
       "\n",
       "    .dataframe thead th {\n",
       "        text-align: right;\n",
       "    }\n",
       "</style>\n",
       "<table border=\"1\" class=\"dataframe\">\n",
       "  <thead>\n",
       "    <tr style=\"text-align: right;\">\n",
       "      <th></th>\n",
       "      <th>id</th>\n",
       "      <th>symbol</th>\n",
       "      <th>period</th>\n",
       "      <th>interval</th>\n",
       "      <th>start_at</th>\n",
       "      <th>open_time</th>\n",
       "      <th>volume</th>\n",
       "      <th>open</th>\n",
       "      <th>high</th>\n",
       "      <th>low</th>\n",
       "      <th>close</th>\n",
       "      <th>turnover</th>\n",
       "    </tr>\n",
       "  </thead>\n",
       "  <tbody>\n",
       "    <tr>\n",
       "      <th>2021-10-01 00:00:00</th>\n",
       "      <td>13318601</td>\n",
       "      <td>BTCUSDT</td>\n",
       "      <td>720</td>\n",
       "      <td>720</td>\n",
       "      <td>1633046400</td>\n",
       "      <td>1633046400</td>\n",
       "      <td>47495.393</td>\n",
       "      <td>43757.5</td>\n",
       "      <td>47949.5</td>\n",
       "      <td>43273.0</td>\n",
       "      <td>47486.5</td>\n",
       "      <td>2.255390e+09</td>\n",
       "    </tr>\n",
       "    <tr>\n",
       "      <th>2021-10-01 12:00:00</th>\n",
       "      <td>13353514</td>\n",
       "      <td>BTCUSDT</td>\n",
       "      <td>720</td>\n",
       "      <td>720</td>\n",
       "      <td>1633089600</td>\n",
       "      <td>1633089600</td>\n",
       "      <td>31282.228</td>\n",
       "      <td>47486.5</td>\n",
       "      <td>48440.0</td>\n",
       "      <td>46788.0</td>\n",
       "      <td>48092.5</td>\n",
       "      <td>1.504441e+09</td>\n",
       "    </tr>\n",
       "    <tr>\n",
       "      <th>2021-10-02 00:00:00</th>\n",
       "      <td>13388420</td>\n",
       "      <td>BTCUSDT</td>\n",
       "      <td>720</td>\n",
       "      <td>720</td>\n",
       "      <td>1633132800</td>\n",
       "      <td>1633132800</td>\n",
       "      <td>13689.434</td>\n",
       "      <td>48092.5</td>\n",
       "      <td>48170.0</td>\n",
       "      <td>47439.0</td>\n",
       "      <td>47670.0</td>\n",
       "      <td>6.525753e+08</td>\n",
       "    </tr>\n",
       "    <tr>\n",
       "      <th>2021-10-02 12:00:00</th>\n",
       "      <td>13423325</td>\n",
       "      <td>BTCUSDT</td>\n",
       "      <td>720</td>\n",
       "      <td>720</td>\n",
       "      <td>1633176000</td>\n",
       "      <td>1633176000</td>\n",
       "      <td>15493.378</td>\n",
       "      <td>47670.0</td>\n",
       "      <td>48315.0</td>\n",
       "      <td>47536.5</td>\n",
       "      <td>47650.0</td>\n",
       "      <td>7.382595e+08</td>\n",
       "    </tr>\n",
       "    <tr>\n",
       "      <th>2021-10-03 00:00:00</th>\n",
       "      <td>13458265</td>\n",
       "      <td>BTCUSDT</td>\n",
       "      <td>720</td>\n",
       "      <td>720</td>\n",
       "      <td>1633219200</td>\n",
       "      <td>1633219200</td>\n",
       "      <td>13582.108</td>\n",
       "      <td>47650.0</td>\n",
       "      <td>48055.0</td>\n",
       "      <td>47098.0</td>\n",
       "      <td>47959.5</td>\n",
       "      <td>6.513911e+08</td>\n",
       "    </tr>\n",
       "    <tr>\n",
       "      <th>...</th>\n",
       "      <td>...</td>\n",
       "      <td>...</td>\n",
       "      <td>...</td>\n",
       "      <td>...</td>\n",
       "      <td>...</td>\n",
       "      <td>...</td>\n",
       "      <td>...</td>\n",
       "      <td>...</td>\n",
       "      <td>...</td>\n",
       "      <td>...</td>\n",
       "      <td>...</td>\n",
       "      <td>...</td>\n",
       "    </tr>\n",
       "    <tr>\n",
       "      <th>2021-11-23 12:00:00</th>\n",
       "      <td>19214179</td>\n",
       "      <td>BTCUSDT</td>\n",
       "      <td>720</td>\n",
       "      <td>720</td>\n",
       "      <td>1637668800</td>\n",
       "      <td>1637668800</td>\n",
       "      <td>13216.333</td>\n",
       "      <td>56139.0</td>\n",
       "      <td>57902.0</td>\n",
       "      <td>56139.0</td>\n",
       "      <td>57586.5</td>\n",
       "      <td>7.561220e+08</td>\n",
       "    </tr>\n",
       "    <tr>\n",
       "      <th>2021-11-24 00:00:00</th>\n",
       "      <td>19292435</td>\n",
       "      <td>BTCUSDT</td>\n",
       "      <td>720</td>\n",
       "      <td>720</td>\n",
       "      <td>1637712000</td>\n",
       "      <td>1637712000</td>\n",
       "      <td>11749.254</td>\n",
       "      <td>57586.5</td>\n",
       "      <td>57732.0</td>\n",
       "      <td>56125.0</td>\n",
       "      <td>56683.5</td>\n",
       "      <td>6.670649e+08</td>\n",
       "    </tr>\n",
       "    <tr>\n",
       "      <th>2021-11-24 12:00:00</th>\n",
       "      <td>19372513</td>\n",
       "      <td>BTCUSDT</td>\n",
       "      <td>720</td>\n",
       "      <td>720</td>\n",
       "      <td>1637755200</td>\n",
       "      <td>1637755200</td>\n",
       "      <td>11242.059</td>\n",
       "      <td>56683.5</td>\n",
       "      <td>57495.0</td>\n",
       "      <td>55935.0</td>\n",
       "      <td>57185.5</td>\n",
       "      <td>6.372338e+08</td>\n",
       "    </tr>\n",
       "    <tr>\n",
       "      <th>2021-11-25 00:00:00</th>\n",
       "      <td>19455601</td>\n",
       "      <td>BTCUSDT</td>\n",
       "      <td>720</td>\n",
       "      <td>720</td>\n",
       "      <td>1637798400</td>\n",
       "      <td>1637798400</td>\n",
       "      <td>12358.142</td>\n",
       "      <td>57185.5</td>\n",
       "      <td>58499.5</td>\n",
       "      <td>57041.5</td>\n",
       "      <td>58035.0</td>\n",
       "      <td>7.138206e+08</td>\n",
       "    </tr>\n",
       "    <tr>\n",
       "      <th>2021-11-25 12:00:00</th>\n",
       "      <td>19538740</td>\n",
       "      <td>BTCUSDT</td>\n",
       "      <td>720</td>\n",
       "      <td>720</td>\n",
       "      <td>1637841600</td>\n",
       "      <td>1637841600</td>\n",
       "      <td>12606.840</td>\n",
       "      <td>58035.0</td>\n",
       "      <td>59440.5</td>\n",
       "      <td>57968.0</td>\n",
       "      <td>58937.0</td>\n",
       "      <td>7.420315e+08</td>\n",
       "    </tr>\n",
       "  </tbody>\n",
       "</table>\n",
       "<p>112 rows × 12 columns</p>\n",
       "</div>"
      ],
      "text/plain": [
       "                           id   symbol period interval    start_at  \\\n",
       "2021-10-01 00:00:00  13318601  BTCUSDT    720      720  1633046400   \n",
       "2021-10-01 12:00:00  13353514  BTCUSDT    720      720  1633089600   \n",
       "2021-10-02 00:00:00  13388420  BTCUSDT    720      720  1633132800   \n",
       "2021-10-02 12:00:00  13423325  BTCUSDT    720      720  1633176000   \n",
       "2021-10-03 00:00:00  13458265  BTCUSDT    720      720  1633219200   \n",
       "...                       ...      ...    ...      ...         ...   \n",
       "2021-11-23 12:00:00  19214179  BTCUSDT    720      720  1637668800   \n",
       "2021-11-24 00:00:00  19292435  BTCUSDT    720      720  1637712000   \n",
       "2021-11-24 12:00:00  19372513  BTCUSDT    720      720  1637755200   \n",
       "2021-11-25 00:00:00  19455601  BTCUSDT    720      720  1637798400   \n",
       "2021-11-25 12:00:00  19538740  BTCUSDT    720      720  1637841600   \n",
       "\n",
       "                      open_time     volume     open     high      low  \\\n",
       "2021-10-01 00:00:00  1633046400  47495.393  43757.5  47949.5  43273.0   \n",
       "2021-10-01 12:00:00  1633089600  31282.228  47486.5  48440.0  46788.0   \n",
       "2021-10-02 00:00:00  1633132800  13689.434  48092.5  48170.0  47439.0   \n",
       "2021-10-02 12:00:00  1633176000  15493.378  47670.0  48315.0  47536.5   \n",
       "2021-10-03 00:00:00  1633219200  13582.108  47650.0  48055.0  47098.0   \n",
       "...                         ...        ...      ...      ...      ...   \n",
       "2021-11-23 12:00:00  1637668800  13216.333  56139.0  57902.0  56139.0   \n",
       "2021-11-24 00:00:00  1637712000  11749.254  57586.5  57732.0  56125.0   \n",
       "2021-11-24 12:00:00  1637755200  11242.059  56683.5  57495.0  55935.0   \n",
       "2021-11-25 00:00:00  1637798400  12358.142  57185.5  58499.5  57041.5   \n",
       "2021-11-25 12:00:00  1637841600  12606.840  58035.0  59440.5  57968.0   \n",
       "\n",
       "                       close      turnover  \n",
       "2021-10-01 00:00:00  47486.5  2.255390e+09  \n",
       "2021-10-01 12:00:00  48092.5  1.504441e+09  \n",
       "2021-10-02 00:00:00  47670.0  6.525753e+08  \n",
       "2021-10-02 12:00:00  47650.0  7.382595e+08  \n",
       "2021-10-03 00:00:00  47959.5  6.513911e+08  \n",
       "...                      ...           ...  \n",
       "2021-11-23 12:00:00  57586.5  7.561220e+08  \n",
       "2021-11-24 00:00:00  56683.5  6.670649e+08  \n",
       "2021-11-24 12:00:00  57185.5  6.372338e+08  \n",
       "2021-11-25 00:00:00  58035.0  7.138206e+08  \n",
       "2021-11-25 12:00:00  58937.0  7.420315e+08  \n",
       "\n",
       "[112 rows x 12 columns]"
      ]
     },
     "execution_count": 7,
     "metadata": {},
     "output_type": "execute_result"
    }
   ],
   "source": [
    "# Constructor parameters: datetime(year, month, day, hour=0, minute=0, second=0, microsecond=0, tzinfo=None, *, fold=0)\n",
    "\n",
    "SYMBOL = 'BTCUSDT'\n",
    "FROM_TIME = dt.datetime(2021, 10, 1) # (year, month, day, hour, minutes, seconds)\n",
    "TO_TIME = dt.datetime(2021, 11, 26)\n",
    "TIMEFRAME = \"720\" # 1 3 5 15 30 60 120 240 360 720 \"D\" \"W\" \"M\"\n",
    "\n",
    "df = get_bybit_kline_data(SYMBOL, TIMEFRAME, FROM_TIME, TO_TIME)\n",
    "\n",
    "from_str = FROM_TIME.strftime('%Y-%m-%d')\n",
    "to_str = TO_TIME.strftime('%Y-%m-%d')\n",
    "\n",
    "filename_csv = f'ByBit Historical\\\\{SYMBOL}_{from_str}_to_{to_str}_{TIMEFRAME}.csv'\n",
    "filename_xlsx = f'ByBit Historical\\\\{SYMBOL}_{from_str}_to_{to_str}_{TIMEFRAME}.xlsx'\n",
    "\n",
    "df.to_csv (filename_csv, index = True, header=True)\n",
    "df.to_excel (filename_xlsx, index = True, header=True)\n",
    "\n",
    "df"
   ]
  },
  {
   "cell_type": "code",
   "execution_count": 11,
   "metadata": {
    "tags": []
   },
   "outputs": [
    {
     "data": {
      "application/vnd.plotly.v1+json": {
       "config": {
        "plotlyServerURL": "https://plot.ly"
       },
       "data": [
        {
         "close": [
          47486.5,
          48092.5,
          47670,
          47650,
          47959.5,
          48175.5,
          47571.5,
          49176.5,
          49847,
          51470.5,
          51300,
          55337.5,
          54353.5,
          53818,
          55302.5,
          53964,
          54831,
          54968,
          55200,
          54724.5,
          56433.5,
          57487.5,
          57244,
          56006,
          55213,
          57369.5,
          57653,
          57355.5,
          59560.5,
          61743.5,
          61724,
          60912,
          61034.5,
          61544,
          60989.5,
          62033.5,
          62200,
          64264.5,
          63877.5,
          66055,
          64923.5,
          62246,
          63349,
          60760,
          61572,
          61357,
          60363,
          60901.5,
          62800,
          63108,
          62816,
          60310.5,
          58681.5,
          58481.5,
          60968.5,
          60678.5,
          60954,
          62300,
          61650.5,
          61894.5,
          60508.5,
          61338,
          61862.5,
          60949.5,
          62990.5,
          63258,
          63167,
          62961.5,
          61514,
          61440.5,
          61320,
          61045,
          60412,
          61440,
          61958,
          63264,
          66037,
          67603.5,
          67646.5,
          66976.5,
          66623,
          64893.5,
          65268,
          64831,
          63809,
          64141,
          63609.5,
          64423,
          64479.5,
          65529.5,
          65755,
          63691.5,
          60600,
          60111,
          60780,
          60370.5,
          59243.5,
          56932.5,
          57036,
          58095.5,
          58645,
          59731,
          58741,
          58627,
          57228.5,
          56278,
          56139,
          57586.5,
          56683.5,
          57185.5,
          58035,
          58937
         ],
         "high": [
          47949.5,
          48440,
          48170,
          48315,
          48055,
          49357,
          48336,
          49500,
          50350,
          51908,
          51800,
          56413,
          55338,
          54747,
          56250,
          55354,
          55390,
          55550,
          56145,
          56666,
          57100,
          57881,
          57833.5,
          57470,
          56696,
          57799.5,
          58653,
          58135,
          60371.5,
          63801,
          62419.5,
          61724,
          61500,
          61722,
          62769,
          62400,
          63050,
          64480,
          64366,
          67210,
          66726,
          65660,
          63774,
          63700,
          61809,
          61753.5,
          61521,
          61343,
          63194,
          63750.5,
          63301.5,
          62917,
          61520,
          59684,
          61310,
          62664.5,
          62149,
          62988.5,
          62386.5,
          62277.5,
          62400,
          61645.5,
          62536.5,
          62200,
          63652,
          64258.5,
          63600,
          63448.5,
          63120,
          62392.5,
          62643.5,
          61961,
          61600,
          61475,
          62370.5,
          63300,
          66434.5,
          68000,
          68600,
          68165.5,
          67390,
          69138.5,
          65594,
          65495,
          65465,
          64595.5,
          64444.5,
          65142.5,
          65375,
          65530,
          66383,
          65951.5,
          63691.5,
          61428,
          60930.5,
          60800,
          61097,
          59960,
          57563,
          58307.5,
          58968,
          59863.5,
          59778,
          60047.5,
          58773,
          59692,
          57748.5,
          57902,
          57732,
          57495,
          58499.5,
          59440.5
         ],
         "low": [
          43273,
          46788,
          47439,
          47536.5,
          47098,
          47635.5,
          47250,
          46902.5,
          48988.5,
          49607,
          50339.5,
          51261,
          53900,
          53357,
          53630,
          53803,
          53717,
          54361,
          54135,
          54350,
          54496,
          56190,
          56460.5,
          53700,
          54265.5,
          54550.5,
          57150,
          56747,
          56900,
          59235.5,
          61200,
          60217,
          60369,
          58803.5,
          60620,
          59917,
          61700,
          61367.5,
          63501,
          63865,
          64175,
          61880,
          62217.5,
          60100,
          59625,
          60738.5,
          60202,
          59456,
          60708.5,
          62590.5,
          62272,
          59888,
          57919.5,
          58255,
          58144,
          57476,
          60111,
          60740,
          61050,
          60700,
          60350,
          60000,
          59444,
          60325,
          60667,
          62700,
          62802,
          60077,
          61300,
          60628,
          60898,
          60764,
          60188,
          60150,
          61378,
          61792.5,
          63263.5,
          65238.5,
          67150,
          66250,
          66337,
          62512.5,
          64127,
          64454.5,
          63538.5,
          62350,
          63409.5,
          63512.5,
          64120,
          63650,
          65342,
          63333,
          58500,
          59139,
          58350,
          59377,
          59028,
          56483,
          55665.5,
          56753,
          58003.5,
          57291.5,
          58532,
          58560,
          56735,
          55614,
          55300,
          56139,
          56125,
          55935,
          57041.5,
          57968
         ],
         "open": [
          43757.5,
          47486.5,
          48092.5,
          47670,
          47650,
          47959.5,
          48175.5,
          47571.5,
          49176.5,
          49847,
          51470.5,
          51300,
          55337.5,
          54353.5,
          53818,
          55302.5,
          53964,
          54831,
          54968,
          55200,
          54724.5,
          56433.5,
          57487.5,
          57244,
          56006,
          55213,
          57369.5,
          57653,
          57355.5,
          59560.5,
          61743.5,
          61724,
          60912,
          61034.5,
          61544,
          60989.5,
          62033.5,
          62200,
          64264.5,
          63877.5,
          66055,
          64923.5,
          62246,
          63349,
          60760,
          61572,
          61357,
          60363,
          60901.5,
          62800,
          63108,
          62816,
          60310.5,
          58681.5,
          58481.5,
          60968.5,
          60678.5,
          60954,
          62300,
          61650.5,
          61894.5,
          60508.5,
          61338,
          61862.5,
          60949.5,
          62990.5,
          63258,
          63167,
          62961.5,
          61514,
          61440.5,
          61320,
          61045,
          60412,
          61440,
          61958,
          63264,
          66037,
          67603.5,
          67646.5,
          66976.5,
          66623,
          64893.5,
          65268,
          64831,
          63809,
          64141,
          63609.5,
          64423,
          64479.5,
          65529.5,
          65755,
          63691.5,
          60600,
          60111,
          60780,
          60370.5,
          59243.5,
          56932.5,
          57036,
          58095.5,
          58645,
          59731,
          58741,
          58627,
          57228.5,
          56278,
          56139,
          57586.5,
          56683.5,
          57185.5,
          58035
         ],
         "type": "candlestick",
         "x": [
          1633046400,
          1633089600,
          1633132800,
          1633176000,
          1633219200,
          1633262400,
          1633305600,
          1633348800,
          1633392000,
          1633435200,
          1633478400,
          1633521600,
          1633564800,
          1633608000,
          1633651200,
          1633694400,
          1633737600,
          1633780800,
          1633824000,
          1633867200,
          1633910400,
          1633953600,
          1633996800,
          1634040000,
          1634083200,
          1634126400,
          1634169600,
          1634212800,
          1634256000,
          1634299200,
          1634342400,
          1634385600,
          1634428800,
          1634472000,
          1634515200,
          1634558400,
          1634601600,
          1634644800,
          1634688000,
          1634731200,
          1634774400,
          1634817600,
          1634860800,
          1634904000,
          1634947200,
          1634990400,
          1635033600,
          1635076800,
          1635120000,
          1635163200,
          1635206400,
          1635249600,
          1635292800,
          1635336000,
          1635379200,
          1635422400,
          1635465600,
          1635508800,
          1635552000,
          1635595200,
          1635638400,
          1635681600,
          1635724800,
          1635768000,
          1635811200,
          1635854400,
          1635897600,
          1635940800,
          1635984000,
          1636027200,
          1636070400,
          1636113600,
          1636156800,
          1636200000,
          1636243200,
          1636286400,
          1636329600,
          1636372800,
          1636416000,
          1636459200,
          1636502400,
          1636545600,
          1636588800,
          1636632000,
          1636675200,
          1636718400,
          1636761600,
          1636804800,
          1636848000,
          1636891200,
          1636934400,
          1636977600,
          1637020800,
          1637064000,
          1637107200,
          1637150400,
          1637193600,
          1637236800,
          1637280000,
          1637323200,
          1637366400,
          1637409600,
          1637452800,
          1637496000,
          1637539200,
          1637582400,
          1637625600,
          1637668800,
          1637712000,
          1637755200,
          1637798400,
          1637841600
         ]
        }
       ],
       "layout": {
        "height": 800,
        "template": {
         "data": {
          "bar": [
           {
            "error_x": {
             "color": "#2a3f5f"
            },
            "error_y": {
             "color": "#2a3f5f"
            },
            "marker": {
             "line": {
              "color": "#E5ECF6",
              "width": 0.5
             },
             "pattern": {
              "fillmode": "overlay",
              "size": 10,
              "solidity": 0.2
             }
            },
            "type": "bar"
           }
          ],
          "barpolar": [
           {
            "marker": {
             "line": {
              "color": "#E5ECF6",
              "width": 0.5
             },
             "pattern": {
              "fillmode": "overlay",
              "size": 10,
              "solidity": 0.2
             }
            },
            "type": "barpolar"
           }
          ],
          "carpet": [
           {
            "aaxis": {
             "endlinecolor": "#2a3f5f",
             "gridcolor": "white",
             "linecolor": "white",
             "minorgridcolor": "white",
             "startlinecolor": "#2a3f5f"
            },
            "baxis": {
             "endlinecolor": "#2a3f5f",
             "gridcolor": "white",
             "linecolor": "white",
             "minorgridcolor": "white",
             "startlinecolor": "#2a3f5f"
            },
            "type": "carpet"
           }
          ],
          "choropleth": [
           {
            "colorbar": {
             "outlinewidth": 0,
             "ticks": ""
            },
            "type": "choropleth"
           }
          ],
          "contour": [
           {
            "colorbar": {
             "outlinewidth": 0,
             "ticks": ""
            },
            "colorscale": [
             [
              0,
              "#0d0887"
             ],
             [
              0.1111111111111111,
              "#46039f"
             ],
             [
              0.2222222222222222,
              "#7201a8"
             ],
             [
              0.3333333333333333,
              "#9c179e"
             ],
             [
              0.4444444444444444,
              "#bd3786"
             ],
             [
              0.5555555555555556,
              "#d8576b"
             ],
             [
              0.6666666666666666,
              "#ed7953"
             ],
             [
              0.7777777777777778,
              "#fb9f3a"
             ],
             [
              0.8888888888888888,
              "#fdca26"
             ],
             [
              1,
              "#f0f921"
             ]
            ],
            "type": "contour"
           }
          ],
          "contourcarpet": [
           {
            "colorbar": {
             "outlinewidth": 0,
             "ticks": ""
            },
            "type": "contourcarpet"
           }
          ],
          "heatmap": [
           {
            "colorbar": {
             "outlinewidth": 0,
             "ticks": ""
            },
            "colorscale": [
             [
              0,
              "#0d0887"
             ],
             [
              0.1111111111111111,
              "#46039f"
             ],
             [
              0.2222222222222222,
              "#7201a8"
             ],
             [
              0.3333333333333333,
              "#9c179e"
             ],
             [
              0.4444444444444444,
              "#bd3786"
             ],
             [
              0.5555555555555556,
              "#d8576b"
             ],
             [
              0.6666666666666666,
              "#ed7953"
             ],
             [
              0.7777777777777778,
              "#fb9f3a"
             ],
             [
              0.8888888888888888,
              "#fdca26"
             ],
             [
              1,
              "#f0f921"
             ]
            ],
            "type": "heatmap"
           }
          ],
          "heatmapgl": [
           {
            "colorbar": {
             "outlinewidth": 0,
             "ticks": ""
            },
            "colorscale": [
             [
              0,
              "#0d0887"
             ],
             [
              0.1111111111111111,
              "#46039f"
             ],
             [
              0.2222222222222222,
              "#7201a8"
             ],
             [
              0.3333333333333333,
              "#9c179e"
             ],
             [
              0.4444444444444444,
              "#bd3786"
             ],
             [
              0.5555555555555556,
              "#d8576b"
             ],
             [
              0.6666666666666666,
              "#ed7953"
             ],
             [
              0.7777777777777778,
              "#fb9f3a"
             ],
             [
              0.8888888888888888,
              "#fdca26"
             ],
             [
              1,
              "#f0f921"
             ]
            ],
            "type": "heatmapgl"
           }
          ],
          "histogram": [
           {
            "marker": {
             "pattern": {
              "fillmode": "overlay",
              "size": 10,
              "solidity": 0.2
             }
            },
            "type": "histogram"
           }
          ],
          "histogram2d": [
           {
            "colorbar": {
             "outlinewidth": 0,
             "ticks": ""
            },
            "colorscale": [
             [
              0,
              "#0d0887"
             ],
             [
              0.1111111111111111,
              "#46039f"
             ],
             [
              0.2222222222222222,
              "#7201a8"
             ],
             [
              0.3333333333333333,
              "#9c179e"
             ],
             [
              0.4444444444444444,
              "#bd3786"
             ],
             [
              0.5555555555555556,
              "#d8576b"
             ],
             [
              0.6666666666666666,
              "#ed7953"
             ],
             [
              0.7777777777777778,
              "#fb9f3a"
             ],
             [
              0.8888888888888888,
              "#fdca26"
             ],
             [
              1,
              "#f0f921"
             ]
            ],
            "type": "histogram2d"
           }
          ],
          "histogram2dcontour": [
           {
            "colorbar": {
             "outlinewidth": 0,
             "ticks": ""
            },
            "colorscale": [
             [
              0,
              "#0d0887"
             ],
             [
              0.1111111111111111,
              "#46039f"
             ],
             [
              0.2222222222222222,
              "#7201a8"
             ],
             [
              0.3333333333333333,
              "#9c179e"
             ],
             [
              0.4444444444444444,
              "#bd3786"
             ],
             [
              0.5555555555555556,
              "#d8576b"
             ],
             [
              0.6666666666666666,
              "#ed7953"
             ],
             [
              0.7777777777777778,
              "#fb9f3a"
             ],
             [
              0.8888888888888888,
              "#fdca26"
             ],
             [
              1,
              "#f0f921"
             ]
            ],
            "type": "histogram2dcontour"
           }
          ],
          "mesh3d": [
           {
            "colorbar": {
             "outlinewidth": 0,
             "ticks": ""
            },
            "type": "mesh3d"
           }
          ],
          "parcoords": [
           {
            "line": {
             "colorbar": {
              "outlinewidth": 0,
              "ticks": ""
             }
            },
            "type": "parcoords"
           }
          ],
          "pie": [
           {
            "automargin": true,
            "type": "pie"
           }
          ],
          "scatter": [
           {
            "marker": {
             "colorbar": {
              "outlinewidth": 0,
              "ticks": ""
             }
            },
            "type": "scatter"
           }
          ],
          "scatter3d": [
           {
            "line": {
             "colorbar": {
              "outlinewidth": 0,
              "ticks": ""
             }
            },
            "marker": {
             "colorbar": {
              "outlinewidth": 0,
              "ticks": ""
             }
            },
            "type": "scatter3d"
           }
          ],
          "scattercarpet": [
           {
            "marker": {
             "colorbar": {
              "outlinewidth": 0,
              "ticks": ""
             }
            },
            "type": "scattercarpet"
           }
          ],
          "scattergeo": [
           {
            "marker": {
             "colorbar": {
              "outlinewidth": 0,
              "ticks": ""
             }
            },
            "type": "scattergeo"
           }
          ],
          "scattergl": [
           {
            "marker": {
             "colorbar": {
              "outlinewidth": 0,
              "ticks": ""
             }
            },
            "type": "scattergl"
           }
          ],
          "scattermapbox": [
           {
            "marker": {
             "colorbar": {
              "outlinewidth": 0,
              "ticks": ""
             }
            },
            "type": "scattermapbox"
           }
          ],
          "scatterpolar": [
           {
            "marker": {
             "colorbar": {
              "outlinewidth": 0,
              "ticks": ""
             }
            },
            "type": "scatterpolar"
           }
          ],
          "scatterpolargl": [
           {
            "marker": {
             "colorbar": {
              "outlinewidth": 0,
              "ticks": ""
             }
            },
            "type": "scatterpolargl"
           }
          ],
          "scatterternary": [
           {
            "marker": {
             "colorbar": {
              "outlinewidth": 0,
              "ticks": ""
             }
            },
            "type": "scatterternary"
           }
          ],
          "surface": [
           {
            "colorbar": {
             "outlinewidth": 0,
             "ticks": ""
            },
            "colorscale": [
             [
              0,
              "#0d0887"
             ],
             [
              0.1111111111111111,
              "#46039f"
             ],
             [
              0.2222222222222222,
              "#7201a8"
             ],
             [
              0.3333333333333333,
              "#9c179e"
             ],
             [
              0.4444444444444444,
              "#bd3786"
             ],
             [
              0.5555555555555556,
              "#d8576b"
             ],
             [
              0.6666666666666666,
              "#ed7953"
             ],
             [
              0.7777777777777778,
              "#fb9f3a"
             ],
             [
              0.8888888888888888,
              "#fdca26"
             ],
             [
              1,
              "#f0f921"
             ]
            ],
            "type": "surface"
           }
          ],
          "table": [
           {
            "cells": {
             "fill": {
              "color": "#EBF0F8"
             },
             "line": {
              "color": "white"
             }
            },
            "header": {
             "fill": {
              "color": "#C8D4E3"
             },
             "line": {
              "color": "white"
             }
            },
            "type": "table"
           }
          ]
         },
         "layout": {
          "annotationdefaults": {
           "arrowcolor": "#2a3f5f",
           "arrowhead": 0,
           "arrowwidth": 1
          },
          "autotypenumbers": "strict",
          "coloraxis": {
           "colorbar": {
            "outlinewidth": 0,
            "ticks": ""
           }
          },
          "colorscale": {
           "diverging": [
            [
             0,
             "#8e0152"
            ],
            [
             0.1,
             "#c51b7d"
            ],
            [
             0.2,
             "#de77ae"
            ],
            [
             0.3,
             "#f1b6da"
            ],
            [
             0.4,
             "#fde0ef"
            ],
            [
             0.5,
             "#f7f7f7"
            ],
            [
             0.6,
             "#e6f5d0"
            ],
            [
             0.7,
             "#b8e186"
            ],
            [
             0.8,
             "#7fbc41"
            ],
            [
             0.9,
             "#4d9221"
            ],
            [
             1,
             "#276419"
            ]
           ],
           "sequential": [
            [
             0,
             "#0d0887"
            ],
            [
             0.1111111111111111,
             "#46039f"
            ],
            [
             0.2222222222222222,
             "#7201a8"
            ],
            [
             0.3333333333333333,
             "#9c179e"
            ],
            [
             0.4444444444444444,
             "#bd3786"
            ],
            [
             0.5555555555555556,
             "#d8576b"
            ],
            [
             0.6666666666666666,
             "#ed7953"
            ],
            [
             0.7777777777777778,
             "#fb9f3a"
            ],
            [
             0.8888888888888888,
             "#fdca26"
            ],
            [
             1,
             "#f0f921"
            ]
           ],
           "sequentialminus": [
            [
             0,
             "#0d0887"
            ],
            [
             0.1111111111111111,
             "#46039f"
            ],
            [
             0.2222222222222222,
             "#7201a8"
            ],
            [
             0.3333333333333333,
             "#9c179e"
            ],
            [
             0.4444444444444444,
             "#bd3786"
            ],
            [
             0.5555555555555556,
             "#d8576b"
            ],
            [
             0.6666666666666666,
             "#ed7953"
            ],
            [
             0.7777777777777778,
             "#fb9f3a"
            ],
            [
             0.8888888888888888,
             "#fdca26"
            ],
            [
             1,
             "#f0f921"
            ]
           ]
          },
          "colorway": [
           "#636efa",
           "#EF553B",
           "#00cc96",
           "#ab63fa",
           "#FFA15A",
           "#19d3f3",
           "#FF6692",
           "#B6E880",
           "#FF97FF",
           "#FECB52"
          ],
          "font": {
           "color": "#2a3f5f"
          },
          "geo": {
           "bgcolor": "white",
           "lakecolor": "white",
           "landcolor": "#E5ECF6",
           "showlakes": true,
           "showland": true,
           "subunitcolor": "white"
          },
          "hoverlabel": {
           "align": "left"
          },
          "hovermode": "closest",
          "mapbox": {
           "style": "light"
          },
          "paper_bgcolor": "white",
          "plot_bgcolor": "#E5ECF6",
          "polar": {
           "angularaxis": {
            "gridcolor": "white",
            "linecolor": "white",
            "ticks": ""
           },
           "bgcolor": "#E5ECF6",
           "radialaxis": {
            "gridcolor": "white",
            "linecolor": "white",
            "ticks": ""
           }
          },
          "scene": {
           "xaxis": {
            "backgroundcolor": "#E5ECF6",
            "gridcolor": "white",
            "gridwidth": 2,
            "linecolor": "white",
            "showbackground": true,
            "ticks": "",
            "zerolinecolor": "white"
           },
           "yaxis": {
            "backgroundcolor": "#E5ECF6",
            "gridcolor": "white",
            "gridwidth": 2,
            "linecolor": "white",
            "showbackground": true,
            "ticks": "",
            "zerolinecolor": "white"
           },
           "zaxis": {
            "backgroundcolor": "#E5ECF6",
            "gridcolor": "white",
            "gridwidth": 2,
            "linecolor": "white",
            "showbackground": true,
            "ticks": "",
            "zerolinecolor": "white"
           }
          },
          "shapedefaults": {
           "line": {
            "color": "#2a3f5f"
           }
          },
          "ternary": {
           "aaxis": {
            "gridcolor": "white",
            "linecolor": "white",
            "ticks": ""
           },
           "baxis": {
            "gridcolor": "white",
            "linecolor": "white",
            "ticks": ""
           },
           "bgcolor": "#E5ECF6",
           "caxis": {
            "gridcolor": "white",
            "linecolor": "white",
            "ticks": ""
           }
          },
          "title": {
           "x": 0.05
          },
          "xaxis": {
           "automargin": true,
           "gridcolor": "white",
           "linecolor": "white",
           "ticks": "",
           "title": {
            "standoff": 15
           },
           "zerolinecolor": "white",
           "zerolinewidth": 2
          },
          "yaxis": {
           "automargin": true,
           "gridcolor": "white",
           "linecolor": "white",
           "ticks": "",
           "title": {
            "standoff": 15
           },
           "zerolinecolor": "white",
           "zerolinewidth": 2
          }
         }
        },
        "title": {
         "text": "BTCUSDT Prices"
        },
        "width": 1200,
        "xaxis": {
         "autorange": false,
         "range": [
          1633024800,
          1637863200
         ],
         "rangeslider": {
          "autorange": true,
          "range": [
           1633024800,
           1637863200
          ],
          "visible": true,
          "yaxis": {
           "_template": null,
           "rangemode": "match"
          }
         },
         "tickformat": "%Y-%m-%d %H:%M",
         "tickmode": "array",
         "ticktext": [
          "2021-10-01 00:00",
          "2021-10-03 12:00",
          "2021-10-06 00:00",
          "2021-10-08 12:00",
          "2021-10-11 00:00",
          "2021-10-13 12:00",
          "2021-10-16 00:00",
          "2021-10-18 12:00",
          "2021-10-21 00:00",
          "2021-10-23 12:00",
          "2021-10-26 00:00",
          "2021-10-28 12:00",
          "2021-10-31 00:00",
          "2021-11-02 12:00",
          "2021-11-05 00:00",
          "2021-11-07 12:00",
          "2021-11-10 00:00",
          "2021-11-12 12:00",
          "2021-11-15 00:00",
          "2021-11-17 12:00",
          "2021-11-20 00:00",
          "2021-11-22 12:00",
          "2021-11-25 00:00"
         ],
         "tickvals": [
          1633046400,
          1633262400,
          1633478400,
          1633694400,
          1633910400,
          1634126400,
          1634342400,
          1634558400,
          1634774400,
          1634990400,
          1635206400,
          1635422400,
          1635638400,
          1635854400,
          1636070400,
          1636286400,
          1636502400,
          1636718400,
          1636934400,
          1637150400,
          1637366400,
          1637582400,
          1637798400
         ],
         "type": "linear"
        },
        "yaxis": {
         "autorange": true,
         "range": [
          41836.02777777778,
          70575.47222222222
         ],
         "title": {
          "text": "Price"
         }
        }
       }
      },
      "image/png": "[encoded data removed]",
      "text/html": [
       "<div>                            <div id=\"cfd4ca71-f58b-4b58-ad3e-8412febab5f5\" class=\"plotly-graph-div\" style=\"height:800px; width:1200px;\"></div>            <script type=\"text/javascript\">                require([\"plotly\"], function(Plotly) {                    window.PLOTLYENV=window.PLOTLYENV || {};                                    if (document.getElementById(\"cfd4ca71-f58b-4b58-ad3e-8412febab5f5\")) {                    Plotly.newPlot(                        \"cfd4ca71-f58b-4b58-ad3e-8412febab5f5\",                        [{\"close\":[47486.5,48092.5,47670.0,47650.0,47959.5,48175.5,47571.5,49176.5,49847.0,51470.5,51300.0,55337.5,54353.5,53818.0,55302.5,53964.0,54831.0,54968.0,55200.0,54724.5,56433.5,57487.5,57244.0,56006.0,55213.0,57369.5,57653.0,57355.5,59560.5,61743.5,61724.0,60912.0,61034.5,61544.0,60989.5,62033.5,62200.0,64264.5,63877.5,66055.0,64923.5,62246.0,63349.0,60760.0,61572.0,61357.0,60363.0,60901.5,62800.0,63108.0,62816.0,60310.5,58681.5,58481.5,60968.5,60678.5,60954.0,62300.0,61650.5,61894.5,60508.5,61338.0,61862.5,60949.5,62990.5,63258.0,63167.0,62961.5,61514.0,61440.5,61320.0,61045.0,60412.0,61440.0,61958.0,63264.0,66037.0,67603.5,67646.5,66976.5,66623.0,64893.5,65268.0,64831.0,63809.0,64141.0,63609.5,64423.0,64479.5,65529.5,65755.0,63691.5,60600.0,60111.0,60780.0,60370.5,59243.5,56932.5,57036.0,58095.5,58645.0,59731.0,58741.0,58627.0,57228.5,56278.0,56139.0,57586.5,56683.5,57185.5,58035.0,58937.0],\"high\":[47949.5,48440.0,48170.0,48315.0,48055.0,49357.0,48336.0,49500.0,50350.0,51908.0,51800.0,56413.0,55338.0,54747.0,56250.0,55354.0,55390.0,55550.0,56145.0,56666.0,57100.0,57881.0,57833.5,57470.0,56696.0,57799.5,58653.0,58135.0,60371.5,63801.0,62419.5,61724.0,61500.0,61722.0,62769.0,62400.0,63050.0,64480.0,64366.0,67210.0,66726.0,65660.0,63774.0,63700.0,61809.0,61753.5,61521.0,61343.0,63194.0,63750.5,63301.5,62917.0,61520.0,59684.0,61310.0,62664.5,62149.0,62988.5,62386.5,62277.5,62400.0,61645.5,62536.5,62200.0,63652.0,64258.5,63600.0,63448.5,63120.0,62392.5,62643.5,61961.0,61600.0,61475.0,62370.5,63300.0,66434.5,68000.0,68600.0,68165.5,67390.0,69138.5,65594.0,65495.0,65465.0,64595.5,64444.5,65142.5,65375.0,65530.0,66383.0,65951.5,63691.5,61428.0,60930.5,60800.0,61097.0,59960.0,57563.0,58307.5,58968.0,59863.5,59778.0,60047.5,58773.0,59692.0,57748.5,57902.0,57732.0,57495.0,58499.5,59440.5],\"low\":[43273.0,46788.0,47439.0,47536.5,47098.0,47635.5,47250.0,46902.5,48988.5,49607.0,50339.5,51261.0,53900.0,53357.0,53630.0,53803.0,53717.0,54361.0,54135.0,54350.0,54496.0,56190.0,56460.5,53700.0,54265.5,54550.5,57150.0,56747.0,56900.0,59235.5,61200.0,60217.0,60369.0,58803.5,60620.0,59917.0,61700.0,61367.5,63501.0,63865.0,64175.0,61880.0,62217.5,60100.0,59625.0,60738.5,60202.0,59456.0,60708.5,62590.5,62272.0,59888.0,57919.5,58255.0,58144.0,57476.0,60111.0,60740.0,61050.0,60700.0,60350.0,60000.0,59444.0,60325.0,60667.0,62700.0,62802.0,60077.0,61300.0,60628.0,60898.0,60764.0,60188.0,60150.0,61378.0,61792.5,63263.5,65238.5,67150.0,66250.0,66337.0,62512.5,64127.0,64454.5,63538.5,62350.0,63409.5,63512.5,64120.0,63650.0,65342.0,63333.0,58500.0,59139.0,58350.0,59377.0,59028.0,56483.0,55665.5,56753.0,58003.5,57291.5,58532.0,58560.0,56735.0,55614.0,55300.0,56139.0,56125.0,55935.0,57041.5,57968.0],\"open\":[43757.5,47486.5,48092.5,47670.0,47650.0,47959.5,48175.5,47571.5,49176.5,49847.0,51470.5,51300.0,55337.5,54353.5,53818.0,55302.5,53964.0,54831.0,54968.0,55200.0,54724.5,56433.5,57487.5,57244.0,56006.0,55213.0,57369.5,57653.0,57355.5,59560.5,61743.5,61724.0,60912.0,61034.5,61544.0,60989.5,62033.5,62200.0,64264.5,63877.5,66055.0,64923.5,62246.0,63349.0,60760.0,61572.0,61357.0,60363.0,60901.5,62800.0,63108.0,62816.0,60310.5,58681.5,58481.5,60968.5,60678.5,60954.0,62300.0,61650.5,61894.5,60508.5,61338.0,61862.5,60949.5,62990.5,63258.0,63167.0,62961.5,61514.0,61440.5,61320.0,61045.0,60412.0,61440.0,61958.0,63264.0,66037.0,67603.5,67646.5,66976.5,66623.0,64893.5,65268.0,64831.0,63809.0,64141.0,63609.5,64423.0,64479.5,65529.5,65755.0,63691.5,60600.0,60111.0,60780.0,60370.5,59243.5,56932.5,57036.0,58095.5,58645.0,59731.0,58741.0,58627.0,57228.5,56278.0,56139.0,57586.5,56683.5,57185.5,58035.0],\"type\":\"candlestick\",\"x\":[1633046400,1633089600,1633132800,1633176000,1633219200,1633262400,1633305600,1633348800,1633392000,1633435200,1633478400,1633521600,1633564800,1633608000,1633651200,1633694400,1633737600,1633780800,1633824000,1633867200,1633910400,1633953600,1633996800,1634040000,1634083200,1634126400,1634169600,1634212800,1634256000,1634299200,1634342400,1634385600,1634428800,1634472000,1634515200,1634558400,1634601600,1634644800,1634688000,1634731200,1634774400,1634817600,1634860800,1634904000,1634947200,1634990400,1635033600,1635076800,1635120000,1635163200,1635206400,1635249600,1635292800,1635336000,1635379200,1635422400,1635465600,1635508800,1635552000,1635595200,1635638400,1635681600,1635724800,1635768000,1635811200,1635854400,1635897600,1635940800,1635984000,1636027200,1636070400,1636113600,1636156800,1636200000,1636243200,1636286400,1636329600,1636372800,1636416000,1636459200,1636502400,1636545600,1636588800,1636632000,1636675200,1636718400,1636761600,1636804800,1636848000,1636891200,1636934400,1636977600,1637020800,1637064000,1637107200,1637150400,1637193600,1637236800,1637280000,1637323200,1637366400,1637409600,1637452800,1637496000,1637539200,1637582400,1637625600,1637668800,1637712000,1637755200,1637798400,1637841600]}],                        {\"height\":800,\"template\":{\"data\":{\"bar\":[{\"error_x\":{\"color\":\"#2a3f5f\"},\"error_y\":{\"color\":\"#2a3f5f\"},\"marker\":{\"line\":{\"color\":\"#E5ECF6\",\"width\":0.5},\"pattern\":{\"fillmode\":\"overlay\",\"size\":10,\"solidity\":0.2}},\"type\":\"bar\"}],\"barpolar\":[{\"marker\":{\"line\":{\"color\":\"#E5ECF6\",\"width\":0.5},\"pattern\":{\"fillmode\":\"overlay\",\"size\":10,\"solidity\":0.2}},\"type\":\"barpolar\"}],\"carpet\":[{\"aaxis\":{\"endlinecolor\":\"#2a3f5f\",\"gridcolor\":\"white\",\"linecolor\":\"white\",\"minorgridcolor\":\"white\",\"startlinecolor\":\"#2a3f5f\"},\"baxis\":{\"endlinecolor\":\"#2a3f5f\",\"gridcolor\":\"white\",\"linecolor\":\"white\",\"minorgridcolor\":\"white\",\"startlinecolor\":\"#2a3f5f\"},\"type\":\"carpet\"}],\"choropleth\":[{\"colorbar\":{\"outlinewidth\":0,\"ticks\":\"\"},\"type\":\"choropleth\"}],\"contour\":[{\"colorbar\":{\"outlinewidth\":0,\"ticks\":\"\"},\"colorscale\":[[0.0,\"#0d0887\"],[0.1111111111111111,\"#46039f\"],[0.2222222222222222,\"#7201a8\"],[0.3333333333333333,\"#9c179e\"],[0.4444444444444444,\"#bd3786\"],[0.5555555555555556,\"#d8576b\"],[0.6666666666666666,\"#ed7953\"],[0.7777777777777778,\"#fb9f3a\"],[0.8888888888888888,\"#fdca26\"],[1.0,\"#f0f921\"]],\"type\":\"contour\"}],\"contourcarpet\":[{\"colorbar\":{\"outlinewidth\":0,\"ticks\":\"\"},\"type\":\"contourcarpet\"}],\"heatmap\":[{\"colorbar\":{\"outlinewidth\":0,\"ticks\":\"\"},\"colorscale\":[[0.0,\"#0d0887\"],[0.1111111111111111,\"#46039f\"],[0.2222222222222222,\"#7201a8\"],[0.3333333333333333,\"#9c179e\"],[0.4444444444444444,\"#bd3786\"],[0.5555555555555556,\"#d8576b\"],[0.6666666666666666,\"#ed7953\"],[0.7777777777777778,\"#fb9f3a\"],[0.8888888888888888,\"#fdca26\"],[1.0,\"#f0f921\"]],\"type\":\"heatmap\"}],\"heatmapgl\":[{\"colorbar\":{\"outlinewidth\":0,\"ticks\":\"\"},\"colorscale\":[[0.0,\"#0d0887\"],[0.1111111111111111,\"#46039f\"],[0.2222222222222222,\"#7201a8\"],[0.3333333333333333,\"#9c179e\"],[0.4444444444444444,\"#bd3786\"],[0.5555555555555556,\"#d8576b\"],[0.6666666666666666,\"#ed7953\"],[0.7777777777777778,\"#fb9f3a\"],[0.8888888888888888,\"#fdca26\"],[1.0,\"#f0f921\"]],\"type\":\"heatmapgl\"}],\"histogram\":[{\"marker\":{\"pattern\":{\"fillmode\":\"overlay\",\"size\":10,\"solidity\":0.2}},\"type\":\"histogram\"}],\"histogram2d\":[{\"colorbar\":{\"outlinewidth\":0,\"ticks\":\"\"},\"colorscale\":[[0.0,\"#0d0887\"],[0.1111111111111111,\"#46039f\"],[0.2222222222222222,\"#7201a8\"],[0.3333333333333333,\"#9c179e\"],[0.4444444444444444,\"#bd3786\"],[0.5555555555555556,\"#d8576b\"],[0.6666666666666666,\"#ed7953\"],[0.7777777777777778,\"#fb9f3a\"],[0.8888888888888888,\"#fdca26\"],[1.0,\"#f0f921\"]],\"type\":\"histogram2d\"}],\"histogram2dcontour\":[{\"colorbar\":{\"outlinewidth\":0,\"ticks\":\"\"},\"colorscale\":[[0.0,\"#0d0887\"],[0.1111111111111111,\"#46039f\"],[0.2222222222222222,\"#7201a8\"],[0.3333333333333333,\"#9c179e\"],[0.4444444444444444,\"#bd3786\"],[0.5555555555555556,\"#d8576b\"],[0.6666666666666666,\"#ed7953\"],[0.7777777777777778,\"#fb9f3a\"],[0.8888888888888888,\"#fdca26\"],[1.0,\"#f0f921\"]],\"type\":\"histogram2dcontour\"}],\"mesh3d\":[{\"colorbar\":{\"outlinewidth\":0,\"ticks\":\"\"},\"type\":\"mesh3d\"}],\"parcoords\":[{\"line\":{\"colorbar\":{\"outlinewidth\":0,\"ticks\":\"\"}},\"type\":\"parcoords\"}],\"pie\":[{\"automargin\":true,\"type\":\"pie\"}],\"scatter\":[{\"marker\":{\"colorbar\":{\"outlinewidth\":0,\"ticks\":\"\"}},\"type\":\"scatter\"}],\"scatter3d\":[{\"line\":{\"colorbar\":{\"outlinewidth\":0,\"ticks\":\"\"}},\"marker\":{\"colorbar\":{\"outlinewidth\":0,\"ticks\":\"\"}},\"type\":\"scatter3d\"}],\"scattercarpet\":[{\"marker\":{\"colorbar\":{\"outlinewidth\":0,\"ticks\":\"\"}},\"type\":\"scattercarpet\"}],\"scattergeo\":[{\"marker\":{\"colorbar\":{\"outlinewidth\":0,\"ticks\":\"\"}},\"type\":\"scattergeo\"}],\"scattergl\":[{\"marker\":{\"colorbar\":{\"outlinewidth\":0,\"ticks\":\"\"}},\"type\":\"scattergl\"}],\"scattermapbox\":[{\"marker\":{\"colorbar\":{\"outlinewidth\":0,\"ticks\":\"\"}},\"type\":\"scattermapbox\"}],\"scatterpolar\":[{\"marker\":{\"colorbar\":{\"outlinewidth\":0,\"ticks\":\"\"}},\"type\":\"scatterpolar\"}],\"scatterpolargl\":[{\"marker\":{\"colorbar\":{\"outlinewidth\":0,\"ticks\":\"\"}},\"type\":\"scatterpolargl\"}],\"scatterternary\":[{\"marker\":{\"colorbar\":{\"outlinewidth\":0,\"ticks\":\"\"}},\"type\":\"scatterternary\"}],\"surface\":[{\"colorbar\":{\"outlinewidth\":0,\"ticks\":\"\"},\"colorscale\":[[0.0,\"#0d0887\"],[0.1111111111111111,\"#46039f\"],[0.2222222222222222,\"#7201a8\"],[0.3333333333333333,\"#9c179e\"],[0.4444444444444444,\"#bd3786\"],[0.5555555555555556,\"#d8576b\"],[0.6666666666666666,\"#ed7953\"],[0.7777777777777778,\"#fb9f3a\"],[0.8888888888888888,\"#fdca26\"],[1.0,\"#f0f921\"]],\"type\":\"surface\"}],\"table\":[{\"cells\":{\"fill\":{\"color\":\"#EBF0F8\"},\"line\":{\"color\":\"white\"}},\"header\":{\"fill\":{\"color\":\"#C8D4E3\"},\"line\":{\"color\":\"white\"}},\"type\":\"table\"}]},\"layout\":{\"annotationdefaults\":{\"arrowcolor\":\"#2a3f5f\",\"arrowhead\":0,\"arrowwidth\":1},\"autotypenumbers\":\"strict\",\"coloraxis\":{\"colorbar\":{\"outlinewidth\":0,\"ticks\":\"\"}},\"colorscale\":{\"diverging\":[[0,\"#8e0152\"],[0.1,\"#c51b7d\"],[0.2,\"#de77ae\"],[0.3,\"#f1b6da\"],[0.4,\"#fde0ef\"],[0.5,\"#f7f7f7\"],[0.6,\"#e6f5d0\"],[0.7,\"#b8e186\"],[0.8,\"#7fbc41\"],[0.9,\"#4d9221\"],[1,\"#276419\"]],\"sequential\":[[0.0,\"#0d0887\"],[0.1111111111111111,\"#46039f\"],[0.2222222222222222,\"#7201a8\"],[0.3333333333333333,\"#9c179e\"],[0.4444444444444444,\"#bd3786\"],[0.5555555555555556,\"#d8576b\"],[0.6666666666666666,\"#ed7953\"],[0.7777777777777778,\"#fb9f3a\"],[0.8888888888888888,\"#fdca26\"],[1.0,\"#f0f921\"]],\"sequentialminus\":[[0.0,\"#0d0887\"],[0.1111111111111111,\"#46039f\"],[0.2222222222222222,\"#7201a8\"],[0.3333333333333333,\"#9c179e\"],[0.4444444444444444,\"#bd3786\"],[0.5555555555555556,\"#d8576b\"],[0.6666666666666666,\"#ed7953\"],[0.7777777777777778,\"#fb9f3a\"],[0.8888888888888888,\"#fdca26\"],[1.0,\"#f0f921\"]]},\"colorway\":[\"#636efa\",\"#EF553B\",\"#00cc96\",\"#ab63fa\",\"#FFA15A\",\"#19d3f3\",\"#FF6692\",\"#B6E880\",\"#FF97FF\",\"#FECB52\"],\"font\":{\"color\":\"#2a3f5f\"},\"geo\":{\"bgcolor\":\"white\",\"lakecolor\":\"white\",\"landcolor\":\"#E5ECF6\",\"showlakes\":true,\"showland\":true,\"subunitcolor\":\"white\"},\"hoverlabel\":{\"align\":\"left\"},\"hovermode\":\"closest\",\"mapbox\":{\"style\":\"light\"},\"paper_bgcolor\":\"white\",\"plot_bgcolor\":\"#E5ECF6\",\"polar\":{\"angularaxis\":{\"gridcolor\":\"white\",\"linecolor\":\"white\",\"ticks\":\"\"},\"bgcolor\":\"#E5ECF6\",\"radialaxis\":{\"gridcolor\":\"white\",\"linecolor\":\"white\",\"ticks\":\"\"}},\"scene\":{\"xaxis\":{\"backgroundcolor\":\"#E5ECF6\",\"gridcolor\":\"white\",\"gridwidth\":2,\"linecolor\":\"white\",\"showbackground\":true,\"ticks\":\"\",\"zerolinecolor\":\"white\"},\"yaxis\":{\"backgroundcolor\":\"#E5ECF6\",\"gridcolor\":\"white\",\"gridwidth\":2,\"linecolor\":\"white\",\"showbackground\":true,\"ticks\":\"\",\"zerolinecolor\":\"white\"},\"zaxis\":{\"backgroundcolor\":\"#E5ECF6\",\"gridcolor\":\"white\",\"gridwidth\":2,\"linecolor\":\"white\",\"showbackground\":true,\"ticks\":\"\",\"zerolinecolor\":\"white\"}},\"shapedefaults\":{\"line\":{\"color\":\"#2a3f5f\"}},\"ternary\":{\"aaxis\":{\"gridcolor\":\"white\",\"linecolor\":\"white\",\"ticks\":\"\"},\"baxis\":{\"gridcolor\":\"white\",\"linecolor\":\"white\",\"ticks\":\"\"},\"bgcolor\":\"#E5ECF6\",\"caxis\":{\"gridcolor\":\"white\",\"linecolor\":\"white\",\"ticks\":\"\"}},\"title\":{\"x\":0.05},\"xaxis\":{\"automargin\":true,\"gridcolor\":\"white\",\"linecolor\":\"white\",\"ticks\":\"\",\"title\":{\"standoff\":15},\"zerolinecolor\":\"white\",\"zerolinewidth\":2},\"yaxis\":{\"automargin\":true,\"gridcolor\":\"white\",\"linecolor\":\"white\",\"ticks\":\"\",\"title\":{\"standoff\":15},\"zerolinecolor\":\"white\",\"zerolinewidth\":2}}},\"title\":{\"text\":\"BTCUSDT Prices\"},\"width\":1200,\"xaxis\":{\"rangeslider\":{\"visible\":true},\"tickformat\":\"%Y-%m-%d %H:%M\",\"tickmode\":\"array\",\"ticktext\":[\"2021-10-01 00:00\",\"2021-10-03 12:00\",\"2021-10-06 00:00\",\"2021-10-08 12:00\",\"2021-10-11 00:00\",\"2021-10-13 12:00\",\"2021-10-16 00:00\",\"2021-10-18 12:00\",\"2021-10-21 00:00\",\"2021-10-23 12:00\",\"2021-10-26 00:00\",\"2021-10-28 12:00\",\"2021-10-31 00:00\",\"2021-11-02 12:00\",\"2021-11-05 00:00\",\"2021-11-07 12:00\",\"2021-11-10 00:00\",\"2021-11-12 12:00\",\"2021-11-15 00:00\",\"2021-11-17 12:00\",\"2021-11-20 00:00\",\"2021-11-22 12:00\",\"2021-11-25 00:00\"],\"tickvals\":[1633046400,1633262400,1633478400,1633694400,1633910400,1634126400,1634342400,1634558400,1634774400,1634990400,1635206400,1635422400,1635638400,1635854400,1636070400,1636286400,1636502400,1636718400,1636934400,1637150400,1637366400,1637582400,1637798400]},\"yaxis\":{\"title\":{\"text\":\"Price\"}}},                        {\"responsive\": true}                    ).then(function(){\n",
       "                            \n",
       "var gd = document.getElementById('cfd4ca71-f58b-4b58-ad3e-8412febab5f5');\n",
       "var x = new MutationObserver(function (mutations, observer) {{\n",
       "        var display = window.getComputedStyle(gd).display;\n",
       "        if (!display || display === 'none') {{\n",
       "            console.log([gd, 'removed!']);\n",
       "            Plotly.purge(gd);\n",
       "            observer.disconnect();\n",
       "        }}\n",
       "}});\n",
       "\n",
       "// Listen for the removal of the full notebook cells\n",
       "var notebookContainer = gd.closest('#notebook-container');\n",
       "if (notebookContainer) {{\n",
       "    x.observe(notebookContainer, {childList: true});\n",
       "}}\n",
       "\n",
       "// Listen for the clearing of the current output cell\n",
       "var outputEl = gd.closest('.output');\n",
       "if (outputEl) {{\n",
       "    x.observe(outputEl, {childList: true});\n",
       "}}\n",
       "\n",
       "                        })                };                });            </script>        </div>"
      ]
     },
     "metadata": {},
     "output_type": "display_data"
    }
   ],
   "source": [
    "format_date = lambda d: d.strftime('%Y-%m-%d %H:%M')\n",
    "\n",
    "nb_rows = len(df)\n",
    "x_step = int(nb_rows / 20)\n",
    "\n",
    "\n",
    "fig = go.Figure(data=[go.Candlestick(x=df['open_time'],\n",
    "                open=df['open'],\n",
    "                high=df['high'],\n",
    "                low=df['low'],\n",
    "                close=df['close'])])\n",
    "\n",
    "fig.update_layout(\n",
    "    title=f'{SYMBOL} Prices',\n",
    "    yaxis_title=\"Price\",\n",
    "    width=1200, height=800,\n",
    "    xaxis_rangeslider_visible=True,\n",
    "    xaxis_tickformat = '%Y-%m-%d %H:%M',\n",
    "    xaxis = dict(\n",
    "        tickmode = 'array',\n",
    "        tickvals = df['open_time'][::x_step],\n",
    "        ticktext = format_date(df.index[::x_step])\n",
    "    )\n",
    ")\n",
    "\n",
    "fig.show()"
   ]
  },
  {
   "cell_type": "code",
   "execution_count": null,
   "metadata": {},
   "outputs": [],
   "source": [
    "\n",
    "\n"
   ]
  },
  {
   "cell_type": "code",
   "execution_count": null,
   "metadata": {},
   "outputs": [],
   "source": []
  }
 ],
 "metadata": {
  "kernelspec": {
   "display_name": "Python 3 (ipykernel)",
   "language": "python",
   "name": "python3"
  },
  "language_info": {
   "codemirror_mode": {
    "name": "ipython",
    "version": 3
   },
   "file_extension": ".py",
   "mimetype": "text/x-python",
   "name": "python",
   "nbconvert_exporter": "python",
   "pygments_lexer": "ipython3",
   "version": "3.8.12"
  }
 },
 "nbformat": 4,
 "nbformat_minor": 4
}
