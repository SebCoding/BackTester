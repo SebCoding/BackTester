{
 "cells": [
  {
   "cell_type": "code",
   "execution_count": 1,
   "id": "259667ce-dc16-44e6-8438-c809c5ae44b9",
   "metadata": {},
   "outputs": [
    {
     "data": {
      "text/plain": [
       "Timestamp('2021-10-01 17:18:00')"
      ]
     },
     "execution_count": 1,
     "metadata": {},
     "output_type": "execute_result"
    }
   ],
   "source": [
    "import pandas as pd\n",
    "import numpy as np\n",
    "import datetime as dt\n",
    "\n",
    "df = pd.DataFrame({ 'Close': [17646], 'macd': [2.87686837]}, index=[dt.datetime(2021, 10, 1, 17, 18)])\n",
    "\n",
    "df.iat[0 ,0]\n",
    "df.index[0]"
   ]
  },
  {
   "cell_type": "code",
   "execution_count": 22,
   "id": "589e0ac8-10f9-4976-87ff-994f57e72d9f",
   "metadata": {},
   "outputs": [
    {
     "data": {
      "text/html": [
       "<div>\n",
       "<style scoped>\n",
       "    .dataframe tbody tr th:only-of-type {\n",
       "        vertical-align: middle;\n",
       "    }\n",
       "\n",
       "    .dataframe tbody tr th {\n",
       "        vertical-align: top;\n",
       "    }\n",
       "\n",
       "    .dataframe thead th {\n",
       "        text-align: right;\n",
       "    }\n",
       "</style>\n",
       "<table border=\"1\" class=\"dataframe\">\n",
       "  <thead>\n",
       "    <tr style=\"text-align: right;\">\n",
       "      <th></th>\n",
       "      <th>close</th>\n",
       "      <th>macd3</th>\n",
       "      <th>macdsignal3</th>\n",
       "    </tr>\n",
       "  </thead>\n",
       "  <tbody>\n",
       "    <tr>\n",
       "      <th>2021-10-05 08:00:00</th>\n",
       "      <td>49300.0</td>\n",
       "      <td>154.252918</td>\n",
       "      <td>150.243803</td>\n",
       "    </tr>\n",
       "  </tbody>\n",
       "</table>\n",
       "</div>"
      ],
      "text/plain": [
       "                       close       macd3  macdsignal3\n",
       "2021-10-05 08:00:00  49300.0  154.252918   150.243803"
      ]
     },
     "execution_count": 22,
     "metadata": {},
     "output_type": "execute_result"
    }
   ],
   "source": [
    "import talib\n",
    "import openpyxl\n",
    "from openpyxl import load_workbook\n",
    "\n",
    "def convertExcelToDataFrame(filename):\n",
    "    wb = load_workbook(filename)\n",
    "    ws = wb['Sheet1']\n",
    "\n",
    "    # To convert a worksheet to a Dataframe you can use the values property. \n",
    "    # This is very easy if the worksheet has no headers or indices:\n",
    "    # df = DataFrame(ws.values)\n",
    "\n",
    "    # https://openpyxl.readthedocs.io/en/stable/pandas.html\n",
    "\n",
    "    # If the worksheet does have headers or indices, such as one created by Pandas, \n",
    "    # then a little more work is required:\n",
    "    from itertools import islice\n",
    "    data = ws.values\n",
    "    cols = next(data)[1:]\n",
    "    data = list(data)\n",
    "    idx = [r[0] for r in data]\n",
    "    data = (islice(r, 1, None) for r in data)\n",
    "    df = pd.DataFrame(data, index=idx, columns=cols)\n",
    "\n",
    "    return df\n",
    "df = convertExcelToDataFrame(\"ByBitData\\\\BTCUSDT_2021-10-01_to_2021-10-05_[15].xlsx\")\n",
    "\n",
    "\n",
    "\n",
    "df['macd3'], df['macdsignal3'], df['macdhist3'] = talib.MACD(df['close'], fastperiod=12, slowperiod=26, signalperiod=9)\n",
    "\n",
    "final_table_columns = ['close', 'macd3', 'macdsignal3']\n",
    "df = df[df.columns.intersection(final_table_columns)]\n",
    "\n",
    "df.dropna(inplace=True)\n",
    "df\n",
    "df.iloc[[-1]]"
   ]
  }
 ],
 "metadata": {
  "kernelspec": {
   "display_name": "Python 3 (ipykernel)",
   "language": "python",
   "name": "python3"
  },
  "language_info": {
   "codemirror_mode": {
    "name": "ipython",
    "version": 3
   },
   "file_extension": ".py",
   "mimetype": "text/x-python",
   "name": "python",
   "nbconvert_exporter": "python",
   "pygments_lexer": "ipython3",
   "version": "3.8.12"
  }
 },
 "nbformat": 4,
 "nbformat_minor": 5
}
